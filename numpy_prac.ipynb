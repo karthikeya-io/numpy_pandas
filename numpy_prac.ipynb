{
 "cells": [
  {
   "cell_type": "markdown",
   "metadata": {},
   "source": [
    "source: [betterprogramming](https://betterprogramming.pub/numpy-illustrated-the-visual-guide-to-numpy-3b1d4976de1d)"
   ]
  },
  {
   "cell_type": "code",
   "execution_count": 1,
   "metadata": {},
   "outputs": [],
   "source": [
    "import numpy as np"
   ]
  },
  {
   "cell_type": "markdown",
   "metadata": {},
   "source": [
    "![alt text](https://miro.medium.com/max/720/1*XbZqTBXZmnQtVZ_llbGJTw.png)"
   ]
  },
  {
   "cell_type": "markdown",
   "metadata": {},
   "source": [
    "NumPy arrays are:\n",
    "more compact, especially when there’s more than one dimension\n",
    "faster than lists when the operation can be vectorized\n",
    "slower than lists when you append elements to the end\n",
    "usually homogeneous: can only work fast with elements of one type"
   ]
  },
  {
   "cell_type": "markdown",
   "metadata": {},
   "source": [
    "# Vectors, the 1D Arrays"
   ]
  },
  {
   "cell_type": "markdown",
   "metadata": {},
   "source": [
    "## Vector initialization"
   ]
  },
  {
   "cell_type": "code",
   "execution_count": 2,
   "metadata": {},
   "outputs": [
    {
     "name": "stdout",
     "output_type": "stream",
     "text": [
      "float64\n",
      "(3,)\n"
     ]
    }
   ],
   "source": [
    "# from python list\n",
    "a = np.array([1., 2., 3.])\n",
    "print(a.dtype)\n",
    "print(a.shape)"
   ]
  },
  {
   "cell_type": "markdown",
   "metadata": {},
   "source": [
    "NumPy arrays cannot grow the way a Python list does: No space is reserved at the end of the array to facilitate quick appends. So it is a common practice to either grow a Python list and convert it to a NumPy array when it is ready or to preallocate the necessary space with np.zeros or np.empty"
   ]
  },
  {
   "cell_type": "code",
   "execution_count": 3,
   "metadata": {},
   "outputs": [
    {
     "name": "stdout",
     "output_type": "stream",
     "text": [
      "b -> [0 0 0 0]\n",
      "c -> [0. 0. 0.]\n"
     ]
    }
   ],
   "source": [
    "b = np.zeros(4, int)\n",
    "print(f'b -> {b}')\n",
    "c = np.zeros_like(a)\n",
    "print(f'c -> {c}')"
   ]
  },
  {
   "cell_type": "markdown",
   "metadata": {},
   "source": [
    "Actually, all the functions that create an array filled with a constant value have a _like counterpart:\n",
    "example: ones_like(a), full_like(a, 7)"
   ]
  },
  {
   "cell_type": "code",
   "execution_count": 4,
   "metadata": {},
   "outputs": [
    {
     "name": "stdout",
     "output_type": "stream",
     "text": [
      "[6. 6. 6.]\n"
     ]
    }
   ],
   "source": [
    "d = np.full_like(a, 6)\n",
    "print(d)"
   ]
  },
  {
   "cell_type": "markdown",
   "metadata": {},
   "source": [
    "two functions for array initialization with a monotonic sequence in NumPy"
   ]
  },
  {
   "cell_type": "code",
   "execution_count": 5,
   "metadata": {},
   "outputs": [
    {
     "name": "stdout",
     "output_type": "stream",
     "text": [
      "[0 1 2 3 4 5]\n",
      "[3 4 5]\n",
      "[1 3 5 7 9]\n"
     ]
    }
   ],
   "source": [
    "e = np.arange(6)\n",
    "print(e)\n",
    "e = np.arange(3,6) #(start, stop)\n",
    "print(e)\n",
    "e = np.arange(1,10,2) #(start, stop, step)\n",
    "print(e)\n"
   ]
  },
  {
   "cell_type": "markdown",
   "metadata": {},
   "source": [
    "If you need a similar-looking array of floats, like [0., 1., 2.], you can change the type of the arange output: arange(3).astype(float), but there’s a better way. The arange function is type-sensitive: If you feed ints as arguments, it will generate ints, and if you feed floats (e.g., arange(3.)) it will generate floats.\n",
    "\n",
    "But arange is not especially good at handling floats:"
   ]
  },
  {
   "cell_type": "code",
   "execution_count": 6,
   "metadata": {},
   "outputs": [
    {
     "name": "stdout",
     "output_type": "stream",
     "text": [
      "[0.3 0.6 0.9 1.2 1.5]\n"
     ]
    }
   ],
   "source": [
    "e = np.linspace(0.3, 1.5, 5) # (start, stop, num)\n",
    "print(e)\n"
   ]
  },
  {
   "cell_type": "markdown",
   "metadata": {},
   "source": [
    "Random Arrays"
   ]
  },
  {
   "cell_type": "code",
   "execution_count": 7,
   "metadata": {},
   "outputs": [
    {
     "name": "stdout",
     "output_type": "stream",
     "text": [
      "[7 5 9 8]\n",
      "[0.68425628 0.24802488 0.418875  ]\n",
      "[ 1.05302015 -0.08033821  0.94184442]\n",
      "[1.00775847 3.47420787 9.94062994]\n",
      "[2.64005418 3.59796761 7.47340688]\n"
     ]
    }
   ],
   "source": [
    "r = np.random.randint(0, 10, 4) #[0, 100)\n",
    "print(r)\n",
    "r = np.random.random(3) # uniform x ∈ [0, 1)\n",
    "print(r)\n",
    "r = np.random.randn(3) # normal µ = 0, sigma = 1\n",
    "print(r)\n",
    "r = np.random.uniform(1, 10, 3) # uniform x ∈ [0, 10)\n",
    "print(r)\n",
    "r = np.random.normal(5, 2, 3) # normal µ = 5, sigma = 2\n",
    "print(r)"
   ]
  },
  {
   "cell_type": "markdown",
   "metadata": {},
   "source": []
  },
  {
   "cell_type": "markdown",
   "metadata": {},
   "source": [
    "## Vector indexing"
   ]
  },
  {
   "cell_type": "markdown",
   "metadata": {},
   "source": [
    "![alt text](https://miro.medium.com/max/720/1*4xpufyWZWcIbabsOHVlc4g.png)"
   ]
  },
  {
   "cell_type": "code",
   "execution_count": 8,
   "metadata": {},
   "outputs": [
    {
     "name": "stdout",
     "output_type": "stream",
     "text": [
      "[1 2 3 4 5]\n",
      "2\n",
      "[3 4]\n",
      "[3 4 5]\n",
      "[1 3 5]\n",
      "[2 4 5]\n",
      "[1 2 3 4 5]\n",
      "[1 2 0 0 5]\n",
      "[1 2 3 4 5]\n"
     ]
    }
   ],
   "source": [
    "i = np.arange(1, 6)\n",
    "print(i)\n",
    "print(i[1])\n",
    "print(i[2:4]) # [2, 4)\n",
    "print(i[-3:])\n",
    "print(i[::2])\n",
    "print(i[[1, 3, 4]])\n",
    "print(i)\n",
    "i[2:4] = 0 # such assignments must not change the size of the array,\n",
    "print(i)\n",
    "i[2:4] = [3, 4]\n",
    "print(i)"
   ]
  },
  {
   "cell_type": "markdown",
   "metadata": {},
   "source": [
    "![alt text](https://miro.medium.com/max/720/1*nFGcXav_xxD7TXGiRYMpHg.png)"
   ]
  },
  {
   "cell_type": "code",
   "execution_count": 9,
   "metadata": {},
   "outputs": [
    {
     "name": "stdout",
     "output_type": "stream",
     "text": [
      "True\n",
      "False\n",
      "[4 5]\n",
      "[4]\n"
     ]
    }
   ],
   "source": [
    "print(np.any(i > 4))\n",
    "print(np.any(i > 6))\n",
    "print(i[i > 3]) #Python “ternary” comparisons like 3<=a<=5 don’t work here\n",
    "print(i[(i > 3) & (i < 5)])"
   ]
  },
  {
   "cell_type": "markdown",
   "metadata": {},
   "source": [
    "![alt text](https://miro.medium.com/max/720/1*Dv9HzG2dSf3QuhjfpSIhqA.png)"
   ]
  },
  {
   "cell_type": "markdown",
   "metadata": {},
   "source": [
    "![alt text](https://miro.medium.com/max/720/1*fLUqfXDFbKtGVBl5VwuySQ.png)"
   ]
  },
  {
   "cell_type": "markdown",
   "metadata": {},
   "source": [
    "## Vector operations"
   ]
  },
  {
   "cell_type": "markdown",
   "metadata": {},
   "source": [
    "\n",
    "![alt text](https://miro.medium.com/max/720/1*RNfQubSwH_6-GnWHVjn9CQ.png)\n",
    "\n",
    "The same way ints are promoted to floats when adding or subtracting, scalars are promoted (aka broadcasted) to arrays"
   ]
  },
  {
   "cell_type": "markdown",
   "metadata": {},
   "source": [
    "Most of the math functions have NumPy counterparts that can handle vectors:\n",
    "\n",
    "![alt text](https://miro.medium.com/max/1400/1*Pc4t0jilbHSM0sMwtVNGIA.png)"
   ]
  },
  {
   "cell_type": "markdown",
   "metadata": {},
   "source": [
    "Scalar product has an operator of its own:\n",
    "![alt text](https://miro.medium.com/max/1400/1*rDUgKZO4bj9_SSRY6ddnfg.png)"
   ]
  },
  {
   "cell_type": "code",
   "execution_count": 10,
   "metadata": {},
   "outputs": [
    {
     "name": "stdout",
     "output_type": "stream",
     "text": [
      "20\n"
     ]
    }
   ],
   "source": [
    "a = np.array([1, 2, 3])\n",
    "b = np.array([2, 3, 4])\n",
    "print(a@b)"
   ]
  },
  {
   "cell_type": "markdown",
   "metadata": {},
   "source": [
    "You don’t need loops for trigonometry either:\n",
    "\n",
    "![alt text](https://miro.medium.com/max/1400/1*wyHVvsoUdsHA0RedM6kdvQ.png)\n"
   ]
  },
  {
   "cell_type": "markdown",
   "metadata": {},
   "source": [
    "Arrays can be rounded as a whole:\n",
    "\n",
    "![alt text](https://miro.medium.com/max/1400/1*GkjXtrFriVBXTQove8vEPw.png)\n"
   ]
  },
  {
   "cell_type": "markdown",
   "metadata": {},
   "source": [
    "NumPy is also capable of doing the basic stats:\n",
    "\n",
    "![alt text](https://miro.medium.com/max/1400/1*TAB7WXfvTM7FxD1bJ7augQ.png)\n"
   ]
  },
  {
   "cell_type": "markdown",
   "metadata": {},
   "source": [
    "![alt text](https://miro.medium.com/max/720/1*3TUC2TP7AG6MTGmNNCx_hg.png)\n",
    "\n",
    "Pandas std uses Bessel’s correction by default"
   ]
  },
  {
   "cell_type": "markdown",
   "metadata": {},
   "source": [
    "### Searching for an element in a vector\n",
    "\n",
    "![alt text](https://miro.medium.com/max/720/1*bQXR_BLBC91f5WvH4TaFcw.png)\n"
   ]
  },
  {
   "cell_type": "markdown",
   "metadata": {},
   "source": [
    "### Comparing floats\n",
    "\n",
    "![alt text](https://miro.medium.com/max/720/1*LZWByfm3vyHXhNreHGy3hQ.png)\n"
   ]
  },
  {
   "cell_type": "markdown",
   "metadata": {},
   "source": []
  },
  {
   "cell_type": "markdown",
   "metadata": {},
   "source": [
    "# Matrices, the 2D Arrays"
   ]
  },
  {
   "cell_type": "markdown",
   "metadata": {},
   "source": [
    "![alt text](https://miro.medium.com/max/720/1*aLMuXA81pDXaw0J0QdKvRQ.png)\n"
   ]
  },
  {
   "cell_type": "markdown",
   "metadata": {},
   "source": [
    "![alt text](https://miro.medium.com/max/720/1*O9bawffUMaZeQw1g0DuHrg.png)\n"
   ]
  },
  {
   "cell_type": "markdown",
   "metadata": {},
   "source": [
    "![alt text](https://miro.medium.com/max/720/1*zOgsZhCTMnbJWC5u_I3fiQ.png)\n"
   ]
  },
  {
   "cell_type": "markdown",
   "metadata": {},
   "source": [
    "Two-dimensional indexing syntax is more convenient than that of nested lists:\n",
    "\n",
    "![alt text](https://miro.medium.com/max/720/1*brbsl7QFZGWfmvgFHMwt9Q.png)\n"
   ]
  },
  {
   "cell_type": "markdown",
   "metadata": {},
   "source": []
  }
 ],
 "metadata": {
  "kernelspec": {
   "display_name": "Python 3.8.10 64-bit",
   "language": "python",
   "name": "python3"
  },
  "language_info": {
   "codemirror_mode": {
    "name": "ipython",
    "version": 3
   },
   "file_extension": ".py",
   "mimetype": "text/x-python",
   "name": "python",
   "nbconvert_exporter": "python",
   "pygments_lexer": "ipython3",
   "version": "3.8.10"
  },
  "orig_nbformat": 4,
  "vscode": {
   "interpreter": {
    "hash": "916dbcbb3f70747c44a77c7bcd40155683ae19c65e1c03b4aa3499c5328201f1"
   }
  }
 },
 "nbformat": 4,
 "nbformat_minor": 2
}
